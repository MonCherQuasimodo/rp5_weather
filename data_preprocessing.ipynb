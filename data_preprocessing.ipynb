{
 "cells": [
  {
   "cell_type": "code",
   "execution_count": 6,
   "metadata": {
    "collapsed": true
   },
   "outputs": [],
   "source": [
    "import os\n",
    "# from sklearn.model_selection import train_test_split\n",
    "from tqdm import tqdm\n",
    "tqdm.pandas()\n",
    "import numpy as np\n",
    "import pandas as pd"
   ]
  },
  {
   "cell_type": "code",
   "execution_count": 7,
   "outputs": [],
   "source": [
    "stations_info = pd.read_csv('static/stations_info.txt',\n",
    "                            delimiter='#',\n",
    "                            header=None,\n",
    "                            names=['city', 'href', 'data_type', 'script_start_date', 'station_id', 'country', 'ws_id','lat', 'lon']) \\\n",
    "                            .drop(columns=['data_type', 'ws_id'])"
   ],
   "metadata": {
    "collapsed": false
   }
  },
  {
   "cell_type": "code",
   "execution_count": 8,
   "outputs": [
    {
     "data": {
      "text/plain": "              city                                              href  \\\n0      Архангельск        https://rp5.ru/Архив_погоды_в_Архангельске   \n1  Санкт-Петербург    https://rp5.ru/Архив_погоды_в_Санкт-Петербурге   \n2     Петрозаводск       https://rp5.ru/Архив_погоды_в_Петрозаводске   \n3            Курск     https://rp5.ru/Архив_погоды_в_Курске,_Поповке   \n4          Воронеж            https://rp5.ru/Архив_погоды_в_Воронеже   \n5           Тамбов             https://rp5.ru/Архив_погоды_в_Тамбове   \n6           Брянск  https://rp5.ru/Архив_погоды_в_Брянске_(аэропорт)   \n\n  script_start_date  station_id country        lat        lon  \n0        2022-12-09       22550  Россия  64.533333  40.566667  \n1        2022-12-09       26063  Россия  59.969100  30.284100  \n2        2022-12-09       22820  Россия  61.783333  34.350000  \n3        2022-12-09       34009  Россия  51.766700  36.166700  \n4        2022-12-09       34123  Россия  51.666667  39.183333  \n5        2022-12-09       27947  Россия  52.733333  41.466667  \n6        2022-12-09       26898  Россия  53.214200  34.176400  ",
      "text/html": "<div>\n<style scoped>\n    .dataframe tbody tr th:only-of-type {\n        vertical-align: middle;\n    }\n\n    .dataframe tbody tr th {\n        vertical-align: top;\n    }\n\n    .dataframe thead th {\n        text-align: right;\n    }\n</style>\n<table border=\"1\" class=\"dataframe\">\n  <thead>\n    <tr style=\"text-align: right;\">\n      <th></th>\n      <th>city</th>\n      <th>href</th>\n      <th>script_start_date</th>\n      <th>station_id</th>\n      <th>country</th>\n      <th>lat</th>\n      <th>lon</th>\n    </tr>\n  </thead>\n  <tbody>\n    <tr>\n      <th>0</th>\n      <td>Архангельск</td>\n      <td>https://rp5.ru/Архив_погоды_в_Архангельске</td>\n      <td>2022-12-09</td>\n      <td>22550</td>\n      <td>Россия</td>\n      <td>64.533333</td>\n      <td>40.566667</td>\n    </tr>\n    <tr>\n      <th>1</th>\n      <td>Санкт-Петербург</td>\n      <td>https://rp5.ru/Архив_погоды_в_Санкт-Петербурге</td>\n      <td>2022-12-09</td>\n      <td>26063</td>\n      <td>Россия</td>\n      <td>59.969100</td>\n      <td>30.284100</td>\n    </tr>\n    <tr>\n      <th>2</th>\n      <td>Петрозаводск</td>\n      <td>https://rp5.ru/Архив_погоды_в_Петрозаводске</td>\n      <td>2022-12-09</td>\n      <td>22820</td>\n      <td>Россия</td>\n      <td>61.783333</td>\n      <td>34.350000</td>\n    </tr>\n    <tr>\n      <th>3</th>\n      <td>Курск</td>\n      <td>https://rp5.ru/Архив_погоды_в_Курске,_Поповке</td>\n      <td>2022-12-09</td>\n      <td>34009</td>\n      <td>Россия</td>\n      <td>51.766700</td>\n      <td>36.166700</td>\n    </tr>\n    <tr>\n      <th>4</th>\n      <td>Воронеж</td>\n      <td>https://rp5.ru/Архив_погоды_в_Воронеже</td>\n      <td>2022-12-09</td>\n      <td>34123</td>\n      <td>Россия</td>\n      <td>51.666667</td>\n      <td>39.183333</td>\n    </tr>\n    <tr>\n      <th>5</th>\n      <td>Тамбов</td>\n      <td>https://rp5.ru/Архив_погоды_в_Тамбове</td>\n      <td>2022-12-09</td>\n      <td>27947</td>\n      <td>Россия</td>\n      <td>52.733333</td>\n      <td>41.466667</td>\n    </tr>\n    <tr>\n      <th>6</th>\n      <td>Брянск</td>\n      <td>https://rp5.ru/Архив_погоды_в_Брянске_(аэропорт)</td>\n      <td>2022-12-09</td>\n      <td>26898</td>\n      <td>Россия</td>\n      <td>53.214200</td>\n      <td>34.176400</td>\n    </tr>\n  </tbody>\n</table>\n</div>"
     },
     "execution_count": 8,
     "metadata": {},
     "output_type": "execute_result"
    }
   ],
   "source": [
    "stations_info"
   ],
   "metadata": {
    "collapsed": false
   }
  },
  {
   "cell_type": "code",
   "execution_count": 9,
   "outputs": [],
   "source": [
    "stations_info.to_csv('static/station_info.csv')"
   ],
   "metadata": {
    "collapsed": false
   }
  },
  {
   "cell_type": "code",
   "execution_count": 10,
   "outputs": [],
   "source": [
    "def to_min_interval(df: pd.DataFrame, col_name: str) -> pd.DataFrame:\n",
    "    s = df[col_name]\n",
    "    min_interval = s.diff(-1).fillna(method='bfill').min()\n",
    "    new_df = df.set_index(col_name)\n",
    "    index = pd.date_range(start=s.min(), end=s.max(), freq=min_interval, name=col_name)[::-1]\n",
    "    return new_df.reindex(index, fill_value=None).reset_index()"
   ],
   "metadata": {
    "collapsed": false
   }
  },
  {
   "cell_type": "code",
   "execution_count": 13,
   "outputs": [],
   "source": [
    "def prepare_data(station_info: pd.DataFrame) -> pd.DataFrame:\n",
    "    # Track spaces in samples\n",
    "    sample_spaces = {}\n",
    "    full_data = []\n",
    "    for i, row in station_info.iterrows():\n",
    "        station_data = []\n",
    "        for file in os.listdir(f'static/{row.station_id}'):\n",
    "            csv = pd.read_csv(f'static/{row.station_id}/{file}', delimiter=';', skiprows=6, index_col=False)\n",
    "            csv.rename(columns={csv.columns[0]: \"local_time\"}, inplace=True)\n",
    "            csv.local_time = pd.to_datetime(csv.local_time, format='%d.%m.%Y %H:%M')\n",
    "            station_data.append(csv)\n",
    "\n",
    "        full_station_data = pd.concat(station_data, ignore_index=True).sort_values('local_time', ascending=False)\n",
    "\n",
    "        hours = full_station_data.local_time.map(lambda x: x.hour)\n",
    "        full_station_data = full_station_data[hours % 3 == 0]\n",
    "\n",
    "        before_extends = full_station_data.shape[0]\n",
    "        full_station_data = to_min_interval(full_station_data, 'local_time')\n",
    "        after_extends = full_station_data.shape[0]\n",
    "        sample_spaces[row.station_id] = after_extends - before_extends\n",
    "\n",
    "        full_station_data['station_id'] = row.station_id\n",
    "\n",
    "        full_data.append(full_station_data)\n",
    "\n",
    "    weather_dataset = pd.concat(full_data, ignore_index=True)\n",
    "\n",
    "    print(f'Total spaces in samples: {sum(sample_spaces.values())}')\n",
    "    print(f'Details:')\n",
    "    print(sample_spaces)\n",
    "\n",
    "    return weather_dataset"
   ],
   "metadata": {
    "collapsed": false
   }
  },
  {
   "cell_type": "code",
   "execution_count": 14,
   "outputs": [
    {
     "name": "stdout",
     "output_type": "stream",
     "text": [
      "Total spaces in samples: 1866\n",
      "Details:\n",
      "{22550: 197, 26063: 209, 22820: 198, 34009: 250, 34123: 423, 27947: 268, 26898: 321}\n"
     ]
    }
   ],
   "source": [
    "dataset = prepare_data(stations_info)"
   ],
   "metadata": {
    "collapsed": false
   }
  },
  {
   "cell_type": "code",
   "execution_count": 15,
   "outputs": [],
   "source": [
    "stations_info.to_csv('static/station_info.csv', sep=';')\n",
    "dataset.to_csv('static/weather_dataset.csv', sep=';')"
   ],
   "metadata": {
    "collapsed": false
   }
  }
 ],
 "metadata": {
  "kernelspec": {
   "name": "forecastingextremeweather",
   "language": "python",
   "display_name": "ForecastingExtremeWeather"
  },
  "language_info": {
   "codemirror_mode": {
    "name": "ipython",
    "version": 2
   },
   "file_extension": ".py",
   "mimetype": "text/x-python",
   "name": "python",
   "nbconvert_exporter": "python",
   "pygments_lexer": "ipython2",
   "version": "2.7.6"
  }
 },
 "nbformat": 4,
 "nbformat_minor": 0
}
